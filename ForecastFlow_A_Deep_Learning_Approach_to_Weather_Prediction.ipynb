{
  "nbformat": 4,
  "nbformat_minor": 0,
  "metadata": {
    "colab": {
      "provenance": [],
      "toc_visible": true
    },
    "kernelspec": {
      "name": "python3",
      "display_name": "Python 3"
    },
    "language_info": {
      "name": "python"
    }
  },
  "cells": [
    {
      "cell_type": "markdown",
      "source": [
        "# ForecastFlow: A Deep Learning Approach to Weather Prediction"
      ],
      "metadata": {
        "id": "KWw8qT2yhD_l"
      }
    },
    {
      "cell_type": "markdown",
      "source": [
        "#  Install necessary libraries"
      ],
      "metadata": {
        "id": "Fd1ArO5wr_cu"
      }
    },
    {
      "cell_type": "markdown",
      "source": [
        "In this step, we are installing the necessary Python libraries for our project. This includes TensorFlow for building your machine learning model, Dash for creating your interactive dashboard, sklearn for machine learning utilities, matplotlib for data visualization, and pandas for data manipulation."
      ],
      "metadata": {
        "id": "Lyoj0sm4sa9Y"
      }
    },
    {
      "cell_type": "code",
      "source": [
        "!pip install tensorflow dash sklearn matplotlib pandas\n",
        "!pip install dash\n",
        "!pip install dash_core_components dash_html_components"
      ],
      "metadata": {
        "colab": {
          "base_uri": "https://localhost:8080/"
        },
        "id": "C_feBpRPhT4-",
        "outputId": "40b71294-62af-4fd0-f66d-e49dc67e0b02"
      },
      "execution_count": 56,
      "outputs": [
        {
          "output_type": "stream",
          "name": "stdout",
          "text": [
            "Requirement already satisfied: tensorflow in /usr/local/lib/python3.10/dist-packages (2.15.0)\n",
            "Requirement already satisfied: dash in /usr/local/lib/python3.10/dist-packages (2.16.0)\n",
            "Collecting sklearn\n",
            "  Using cached sklearn-0.0.post12.tar.gz (2.6 kB)\n",
            "  \u001b[1;31merror\u001b[0m: \u001b[1msubprocess-exited-with-error\u001b[0m\n",
            "  \n",
            "  \u001b[31m×\u001b[0m \u001b[32mpython setup.py egg_info\u001b[0m did not run successfully.\n",
            "  \u001b[31m│\u001b[0m exit code: \u001b[1;36m1\u001b[0m\n",
            "  \u001b[31m╰─>\u001b[0m See above for output.\n",
            "  \n",
            "  \u001b[1;35mnote\u001b[0m: This error originates from a subprocess, and is likely not a problem with pip.\n",
            "  Preparing metadata (setup.py) ... \u001b[?25l\u001b[?25herror\n",
            "\u001b[1;31merror\u001b[0m: \u001b[1mmetadata-generation-failed\u001b[0m\n",
            "\n",
            "\u001b[31m×\u001b[0m Encountered error while generating package metadata.\n",
            "\u001b[31m╰─>\u001b[0m See above for output.\n",
            "\n",
            "\u001b[1;35mnote\u001b[0m: This is an issue with the package mentioned above, not pip.\n",
            "\u001b[1;36mhint\u001b[0m: See above for details.\n",
            "Requirement already satisfied: dash in /usr/local/lib/python3.10/dist-packages (2.16.0)\n",
            "Requirement already satisfied: Flask<3.1,>=1.0.4 in /usr/local/lib/python3.10/dist-packages (from dash) (2.2.5)\n",
            "Requirement already satisfied: Werkzeug<3.1 in /usr/local/lib/python3.10/dist-packages (from dash) (3.0.1)\n",
            "Requirement already satisfied: plotly>=5.0.0 in /usr/local/lib/python3.10/dist-packages (from dash) (5.15.0)\n",
            "Requirement already satisfied: dash-html-components==2.0.0 in /usr/local/lib/python3.10/dist-packages (from dash) (2.0.0)\n",
            "Requirement already satisfied: dash-core-components==2.0.0 in /usr/local/lib/python3.10/dist-packages (from dash) (2.0.0)\n",
            "Requirement already satisfied: dash-table==5.0.0 in /usr/local/lib/python3.10/dist-packages (from dash) (5.0.0)\n",
            "Requirement already satisfied: importlib-metadata in /usr/local/lib/python3.10/dist-packages (from dash) (7.0.1)\n",
            "Requirement already satisfied: typing-extensions>=4.1.1 in /usr/local/lib/python3.10/dist-packages (from dash) (4.10.0)\n",
            "Requirement already satisfied: requests in /usr/local/lib/python3.10/dist-packages (from dash) (2.31.0)\n",
            "Requirement already satisfied: retrying in /usr/local/lib/python3.10/dist-packages (from dash) (1.3.4)\n",
            "Requirement already satisfied: nest-asyncio in /usr/local/lib/python3.10/dist-packages (from dash) (1.6.0)\n",
            "Requirement already satisfied: setuptools in /usr/local/lib/python3.10/dist-packages (from dash) (67.7.2)\n",
            "Requirement already satisfied: Jinja2>=3.0 in /usr/local/lib/python3.10/dist-packages (from Flask<3.1,>=1.0.4->dash) (3.1.3)\n",
            "Requirement already satisfied: itsdangerous>=2.0 in /usr/local/lib/python3.10/dist-packages (from Flask<3.1,>=1.0.4->dash) (2.1.2)\n",
            "Requirement already satisfied: click>=8.0 in /usr/local/lib/python3.10/dist-packages (from Flask<3.1,>=1.0.4->dash) (8.1.7)\n",
            "Requirement already satisfied: tenacity>=6.2.0 in /usr/local/lib/python3.10/dist-packages (from plotly>=5.0.0->dash) (8.2.3)\n",
            "Requirement already satisfied: packaging in /usr/local/lib/python3.10/dist-packages (from plotly>=5.0.0->dash) (23.2)\n",
            "Requirement already satisfied: MarkupSafe>=2.1.1 in /usr/local/lib/python3.10/dist-packages (from Werkzeug<3.1->dash) (2.1.5)\n",
            "Requirement already satisfied: zipp>=0.5 in /usr/local/lib/python3.10/dist-packages (from importlib-metadata->dash) (3.17.0)\n",
            "Requirement already satisfied: charset-normalizer<4,>=2 in /usr/local/lib/python3.10/dist-packages (from requests->dash) (3.3.2)\n",
            "Requirement already satisfied: idna<4,>=2.5 in /usr/local/lib/python3.10/dist-packages (from requests->dash) (3.6)\n",
            "Requirement already satisfied: urllib3<3,>=1.21.1 in /usr/local/lib/python3.10/dist-packages (from requests->dash) (2.0.7)\n",
            "Requirement already satisfied: certifi>=2017.4.17 in /usr/local/lib/python3.10/dist-packages (from requests->dash) (2024.2.2)\n",
            "Requirement already satisfied: six>=1.7.0 in /usr/local/lib/python3.10/dist-packages (from retrying->dash) (1.16.0)\n",
            "Requirement already satisfied: dash_core_components in /usr/local/lib/python3.10/dist-packages (2.0.0)\n",
            "Requirement already satisfied: dash_html_components in /usr/local/lib/python3.10/dist-packages (2.0.0)\n"
          ]
        }
      ]
    },
    {
      "cell_type": "markdown",
      "source": [
        "# Import necessary libraries"
      ],
      "metadata": {
        "id": "OAsZD0u0smrX"
      }
    },
    {
      "cell_type": "code",
      "source": [
        "import requests\n",
        "import pandas as pd\n",
        "import tensorflow as tf\n",
        "import numpy as np\n",
        "from keras.models import Sequential\n",
        "from keras.layers import Dense\n",
        "from tensorflow.keras.models import Sequential\n",
        "from tensorflow.keras.layers import Dense\n",
        "from sklearn.model_selection import cross_val_score\n",
        "from sklearn.metrics import precision_recall_curve\n",
        "from sklearn.model_selection import StratifiedKFold, cross_val_predict\n",
        "from sklearn.metrics import mean_squared_error, precision_recall_curve\n",
        "from sklearn.metrics import accuracy_score, precision_recall_curve\n",
        "import matplotlib.pyplot as plt\n",
        "import dash\n",
        "import dash_core_components as dcc\n",
        "import dash_html_components as html\n"
      ],
      "metadata": {
        "id": "fZTBUvgfhVzS"
      },
      "execution_count": 57,
      "outputs": []
    },
    {
      "cell_type": "markdown",
      "source": [
        "# Fetch real-time weather data"
      ],
      "metadata": {
        "id": "ua2nQ9Aastfc"
      }
    },
    {
      "cell_type": "markdown",
      "source": [
        "In this step, we are fetching real-time weather data from the OpenWeatherMap API for the city of Bengaluru. The data is then converted into a pandas DataFrame for easier processing."
      ],
      "metadata": {
        "id": "PTX6xOMlsxcZ"
      }
    },
    {
      "cell_type": "code",
      "source": [
        "# Fetch historical weather data\n",
        "#city = 'Bengaluru'\n",
        "#start_timestamp = '1577836800'  # Unix timestamp for January 1, 2020\n",
        "#end_timestamp = '1641848400'  # Unix timestamp for January 10, 2022\n",
        "#api_key = '45f0f8fd0bbeb19507c564cd1e6a9845'  # Your OpenWeatherMap API key\n",
        "#url = f\"http://history.openweathermap.org/data/2.5/history/city?q={city}&type=hour&start={start_timestamp}&end={end_timestamp}&appid={api_key}\"\n",
        "#response = requests.get(url)\n",
        "#historical_data = response.json()\n",
        "# Convert the JSON data to a pandas DataFrame\n",
        "#df = pd.json_normalize(historical_data)\n",
        "#print(df.head())\n",
        "\n",
        "api_key = '45f0f8fd0bbeb19507c564cd1e6a9845'\n",
        "city = 'Bengaluru'\n",
        "url = f'http://api.openweathermap.org/data/2.5/weather?q={city}&appid={api_key}'\n",
        "response = requests.get(url)\n",
        "weather_data = response.json()\n",
        "df = pd.json_normalize(weather_data)\n",
        "print(df.head())\n",
        "\n",
        "#print(weather_data)\n"
      ],
      "metadata": {
        "colab": {
          "base_uri": "https://localhost:8080/"
        },
        "id": "86Sl_jY-hY7d",
        "outputId": "ff9d7cd7-315b-4cf4-e832-7feb4118a7e4"
      },
      "execution_count": 60,
      "outputs": [
        {
          "output_type": "stream",
          "name": "stdout",
          "text": [
            "                                             weather      base  visibility  \\\n",
            "0  [{'id': 804, 'main': 'Clouds', 'description': ...  stations        6000   \n",
            "\n",
            "           dt  timezone       id       name  cod  coord.lon  coord.lat  ...  \\\n",
            "0  1709408804     19800  1277333  Bengaluru  200    77.6033    12.9762  ...   \n",
            "\n",
            "   main.pressure  main.humidity  wind.speed  wind.deg  clouds.all  sys.type  \\\n",
            "0           1018             52        3.09       120         100         2   \n",
            "\n",
            "    sys.id  sys.country  sys.sunrise  sys.sunset  \n",
            "0  2036502           IN   1709427868  1709470731  \n",
            "\n",
            "[1 rows x 24 columns]\n"
          ]
        }
      ]
    },
    {
      "cell_type": "markdown",
      "source": [
        "# Create dummy data for training"
      ],
      "metadata": {
        "id": "6lPx8HYDtDOH"
      }
    },
    {
      "cell_type": "code",
      "source": [
        "# Let's create some dummy data for the purpose of this example\n",
        "X_train = np.random.rand(100, 10)  # 100 samples, 10 features each\n",
        "y_train = np.random.rand(100, 1)  # 100 labels\n",
        "\n",
        "# Let's create some dummy data for the purpose of this example\n",
        "X_test = np.random.rand(20, 10)  # 20 samples, 10 features each\n",
        "y_test = np.random.rand(20, 1)  # 20 labels"
      ],
      "metadata": {
        "id": "lycoOzGnnM26"
      },
      "execution_count": 59,
      "outputs": []
    },
    {
      "cell_type": "markdown",
      "source": [
        "# Train a deep learning model"
      ],
      "metadata": {
        "id": "MCVIZFzvtTN6"
      }
    },
    {
      "cell_type": "markdown",
      "source": [
        "We are building and training a deep learning model using TensorFlow. We are using a sequential model with three layers. The model is trained using the mean squared error loss function and the Adam optimizer."
      ],
      "metadata": {
        "id": "zZIbFKJftYUJ"
      }
    },
    {
      "cell_type": "code",
      "source": [
        "# Assuming X_train and y_train are your training data.\n",
        "model = Sequential()\n",
        "model.add(Dense(32, input_dim=X_train.shape[1], activation='relu'))\n",
        "model.add(Dense(16, activation='relu'))\n",
        "model.add(Dense(1, activation='linear'))\n",
        "\n",
        "model.compile(loss='mean_squared_error', optimizer='adam')\n",
        "model.fit(X_train, y_train, epochs=50, batch_size=10, verbose=1)\n"
      ],
      "metadata": {
        "colab": {
          "base_uri": "https://localhost:8080/"
        },
        "id": "B3k5xJ2AiUZB",
        "outputId": "d3255755-5b47-4a78-c263-8d145630d189"
      },
      "execution_count": 61,
      "outputs": [
        {
          "output_type": "stream",
          "name": "stdout",
          "text": [
            "Epoch 1/50\n",
            "10/10 [==============================] - 1s 2ms/step - loss: 0.3617\n",
            "Epoch 2/50\n",
            "10/10 [==============================] - 0s 2ms/step - loss: 0.2349\n",
            "Epoch 3/50\n",
            "10/10 [==============================] - 0s 2ms/step - loss: 0.1501\n",
            "Epoch 4/50\n",
            "10/10 [==============================] - 0s 2ms/step - loss: 0.1129\n",
            "Epoch 5/50\n",
            "10/10 [==============================] - 0s 3ms/step - loss: 0.1040\n",
            "Epoch 6/50\n",
            "10/10 [==============================] - 0s 2ms/step - loss: 0.1014\n",
            "Epoch 7/50\n",
            "10/10 [==============================] - 0s 2ms/step - loss: 0.0978\n",
            "Epoch 8/50\n",
            "10/10 [==============================] - 0s 2ms/step - loss: 0.0941\n",
            "Epoch 9/50\n",
            "10/10 [==============================] - 0s 2ms/step - loss: 0.0921\n",
            "Epoch 10/50\n",
            "10/10 [==============================] - 0s 2ms/step - loss: 0.0887\n",
            "Epoch 11/50\n",
            "10/10 [==============================] - 0s 2ms/step - loss: 0.0865\n",
            "Epoch 12/50\n",
            "10/10 [==============================] - 0s 3ms/step - loss: 0.0843\n",
            "Epoch 13/50\n",
            "10/10 [==============================] - 0s 2ms/step - loss: 0.0816\n",
            "Epoch 14/50\n",
            "10/10 [==============================] - 0s 2ms/step - loss: 0.0796\n",
            "Epoch 15/50\n",
            "10/10 [==============================] - 0s 4ms/step - loss: 0.0769\n",
            "Epoch 16/50\n",
            "10/10 [==============================] - 0s 2ms/step - loss: 0.0747\n",
            "Epoch 17/50\n",
            "10/10 [==============================] - 0s 2ms/step - loss: 0.0732\n",
            "Epoch 18/50\n",
            "10/10 [==============================] - 0s 3ms/step - loss: 0.0713\n",
            "Epoch 19/50\n",
            "10/10 [==============================] - 0s 2ms/step - loss: 0.0704\n",
            "Epoch 20/50\n",
            "10/10 [==============================] - 0s 2ms/step - loss: 0.0690\n",
            "Epoch 21/50\n",
            "10/10 [==============================] - 0s 2ms/step - loss: 0.0690\n",
            "Epoch 22/50\n",
            "10/10 [==============================] - 0s 2ms/step - loss: 0.0671\n",
            "Epoch 23/50\n",
            "10/10 [==============================] - 0s 2ms/step - loss: 0.0660\n",
            "Epoch 24/50\n",
            "10/10 [==============================] - 0s 2ms/step - loss: 0.0653\n",
            "Epoch 25/50\n",
            "10/10 [==============================] - 0s 2ms/step - loss: 0.0644\n",
            "Epoch 26/50\n",
            "10/10 [==============================] - 0s 2ms/step - loss: 0.0635\n",
            "Epoch 27/50\n",
            "10/10 [==============================] - 0s 2ms/step - loss: 0.0630\n",
            "Epoch 28/50\n",
            "10/10 [==============================] - 0s 3ms/step - loss: 0.0619\n",
            "Epoch 29/50\n",
            "10/10 [==============================] - 0s 3ms/step - loss: 0.0615\n",
            "Epoch 30/50\n",
            "10/10 [==============================] - 0s 3ms/step - loss: 0.0611\n",
            "Epoch 31/50\n",
            "10/10 [==============================] - 0s 4ms/step - loss: 0.0602\n",
            "Epoch 32/50\n",
            "10/10 [==============================] - 0s 3ms/step - loss: 0.0598\n",
            "Epoch 33/50\n",
            "10/10 [==============================] - 0s 2ms/step - loss: 0.0588\n",
            "Epoch 34/50\n",
            "10/10 [==============================] - 0s 2ms/step - loss: 0.0578\n",
            "Epoch 35/50\n",
            "10/10 [==============================] - 0s 2ms/step - loss: 0.0575\n",
            "Epoch 36/50\n",
            "10/10 [==============================] - 0s 2ms/step - loss: 0.0567\n",
            "Epoch 37/50\n",
            "10/10 [==============================] - 0s 2ms/step - loss: 0.0565\n",
            "Epoch 38/50\n",
            "10/10 [==============================] - 0s 2ms/step - loss: 0.0557\n",
            "Epoch 39/50\n",
            "10/10 [==============================] - 0s 2ms/step - loss: 0.0553\n",
            "Epoch 40/50\n",
            "10/10 [==============================] - 0s 2ms/step - loss: 0.0550\n",
            "Epoch 41/50\n",
            "10/10 [==============================] - 0s 2ms/step - loss: 0.0543\n",
            "Epoch 42/50\n",
            "10/10 [==============================] - 0s 2ms/step - loss: 0.0542\n",
            "Epoch 43/50\n",
            "10/10 [==============================] - 0s 3ms/step - loss: 0.0544\n",
            "Epoch 44/50\n",
            "10/10 [==============================] - 0s 2ms/step - loss: 0.0526\n",
            "Epoch 45/50\n",
            "10/10 [==============================] - 0s 2ms/step - loss: 0.0527\n",
            "Epoch 46/50\n",
            "10/10 [==============================] - 0s 2ms/step - loss: 0.0528\n",
            "Epoch 47/50\n",
            "10/10 [==============================] - 0s 2ms/step - loss: 0.0504\n",
            "Epoch 48/50\n",
            "10/10 [==============================] - 0s 3ms/step - loss: 0.0512\n",
            "Epoch 49/50\n",
            "10/10 [==============================] - 0s 2ms/step - loss: 0.0498\n",
            "Epoch 50/50\n",
            "10/10 [==============================] - 0s 2ms/step - loss: 0.0495\n"
          ]
        },
        {
          "output_type": "execute_result",
          "data": {
            "text/plain": [
              "<keras.src.callbacks.History at 0x794dcc1b7130>"
            ]
          },
          "metadata": {},
          "execution_count": 61
        }
      ]
    },
    {
      "cell_type": "markdown",
      "source": [
        "#Evaluate the model"
      ],
      "metadata": {
        "id": "Arc4UrmGtvYO"
      }
    },
    {
      "cell_type": "markdown",
      "source": [
        "We are evaluating your model on the test data. We are calculating the mean squared error, checking the unique values in your binary test labels, and plotting a precision-recall curve."
      ],
      "metadata": {
        "id": "8IRQ89Ant2rm"
      }
    },
    {
      "cell_type": "code",
      "source": [
        "# Assuming X_train and y_train are your training data.\n",
        "model = Sequential()\n",
        "model.add(Dense(32, input_dim=X_train.shape[1], activation='relu'))\n",
        "model.add(Dense(16, activation='relu'))\n",
        "model.add(Dense(1, activation='linear'))\n",
        "\n",
        "model.compile(loss='mean_squared_error', optimizer='adam')\n",
        "model.fit(X_train, y_train, epochs=50, batch_size=10, verbose=1)\n",
        "\n",
        "# Evaluate on the test set\n",
        "y_pred = model.predict(X_test)\n",
        "\n",
        "# Convert to binary labels\n",
        "threshold = 0.5  # Set your threshold based on your problem\n",
        "y_test_binary = (y_test > threshold).astype(int)\n",
        "y_pred_binary = (y_pred > threshold).astype(int)\n",
        "\n",
        "# Calculate Mean Squared Error\n",
        "mse = mean_squared_error(y_test, y_pred)\n",
        "print(f\"Mean Squared Error on Test Set: {mse}\")\n",
        "\n",
        "# Check unique values in y_test_binary\n",
        "print(f\"Unique values in y_test_binary: {np.unique(y_test_binary)}\")\n",
        "\n",
        "# Precision-Recall curve\n",
        "precision, recall, _ = precision_recall_curve(y_test_binary, y_pred_binary)\n",
        "\n",
        "plt.plot(recall, precision)\n",
        "plt.xlabel('Recall')\n",
        "plt.ylabel('Precision')\n",
        "plt.title('Precision-Recall curve')\n",
        "plt.show()"
      ],
      "metadata": {
        "colab": {
          "base_uri": "https://localhost:8080/",
          "height": 1000
        },
        "id": "YVck1EKgmDyX",
        "outputId": "b0083972-d1f3-4342-9a24-1c65cf5b8ad8"
      },
      "execution_count": 62,
      "outputs": [
        {
          "output_type": "stream",
          "name": "stdout",
          "text": [
            "Epoch 1/50\n",
            "10/10 [==============================] - 1s 2ms/step - loss: 0.1753\n",
            "Epoch 2/50\n",
            "10/10 [==============================] - 0s 2ms/step - loss: 0.1181\n",
            "Epoch 3/50\n",
            "10/10 [==============================] - 0s 2ms/step - loss: 0.1079\n",
            "Epoch 4/50\n",
            "10/10 [==============================] - 0s 2ms/step - loss: 0.1011\n",
            "Epoch 5/50\n",
            "10/10 [==============================] - 0s 2ms/step - loss: 0.0964\n",
            "Epoch 6/50\n",
            "10/10 [==============================] - 0s 2ms/step - loss: 0.0934\n",
            "Epoch 7/50\n",
            "10/10 [==============================] - 0s 2ms/step - loss: 0.0918\n",
            "Epoch 8/50\n",
            "10/10 [==============================] - 0s 3ms/step - loss: 0.0892\n",
            "Epoch 9/50\n",
            "10/10 [==============================] - 0s 3ms/step - loss: 0.0864\n",
            "Epoch 10/50\n",
            "10/10 [==============================] - 0s 2ms/step - loss: 0.0845\n",
            "Epoch 11/50\n",
            "10/10 [==============================] - 0s 2ms/step - loss: 0.0822\n",
            "Epoch 12/50\n",
            "10/10 [==============================] - 0s 2ms/step - loss: 0.0795\n",
            "Epoch 13/50\n",
            "10/10 [==============================] - 0s 2ms/step - loss: 0.0774\n",
            "Epoch 14/50\n",
            "10/10 [==============================] - 0s 2ms/step - loss: 0.0757\n",
            "Epoch 15/50\n",
            "10/10 [==============================] - 0s 2ms/step - loss: 0.0745\n",
            "Epoch 16/50\n",
            "10/10 [==============================] - 0s 2ms/step - loss: 0.0726\n",
            "Epoch 17/50\n",
            "10/10 [==============================] - 0s 2ms/step - loss: 0.0710\n",
            "Epoch 18/50\n",
            "10/10 [==============================] - 0s 2ms/step - loss: 0.0701\n",
            "Epoch 19/50\n",
            "10/10 [==============================] - 0s 3ms/step - loss: 0.0683\n",
            "Epoch 20/50\n",
            "10/10 [==============================] - 0s 2ms/step - loss: 0.0670\n",
            "Epoch 21/50\n",
            "10/10 [==============================] - 0s 2ms/step - loss: 0.0659\n",
            "Epoch 22/50\n",
            "10/10 [==============================] - 0s 2ms/step - loss: 0.0648\n",
            "Epoch 23/50\n",
            "10/10 [==============================] - 0s 2ms/step - loss: 0.0637\n",
            "Epoch 24/50\n",
            "10/10 [==============================] - 0s 2ms/step - loss: 0.0625\n",
            "Epoch 25/50\n",
            "10/10 [==============================] - 0s 3ms/step - loss: 0.0628\n",
            "Epoch 26/50\n",
            "10/10 [==============================] - 0s 3ms/step - loss: 0.0622\n",
            "Epoch 27/50\n",
            "10/10 [==============================] - 0s 2ms/step - loss: 0.0592\n",
            "Epoch 28/50\n",
            "10/10 [==============================] - 0s 3ms/step - loss: 0.0587\n",
            "Epoch 29/50\n",
            "10/10 [==============================] - 0s 2ms/step - loss: 0.0573\n",
            "Epoch 30/50\n",
            "10/10 [==============================] - 0s 2ms/step - loss: 0.0574\n",
            "Epoch 31/50\n",
            "10/10 [==============================] - 0s 2ms/step - loss: 0.0560\n",
            "Epoch 32/50\n",
            "10/10 [==============================] - 0s 2ms/step - loss: 0.0554\n",
            "Epoch 33/50\n",
            "10/10 [==============================] - 0s 3ms/step - loss: 0.0553\n",
            "Epoch 34/50\n",
            "10/10 [==============================] - 0s 2ms/step - loss: 0.0540\n",
            "Epoch 35/50\n",
            "10/10 [==============================] - 0s 2ms/step - loss: 0.0535\n",
            "Epoch 36/50\n",
            "10/10 [==============================] - 0s 2ms/step - loss: 0.0527\n",
            "Epoch 37/50\n",
            "10/10 [==============================] - 0s 2ms/step - loss: 0.0525\n",
            "Epoch 38/50\n",
            "10/10 [==============================] - 0s 2ms/step - loss: 0.0520\n",
            "Epoch 39/50\n",
            "10/10 [==============================] - 0s 2ms/step - loss: 0.0519\n",
            "Epoch 40/50\n",
            "10/10 [==============================] - 0s 2ms/step - loss: 0.0521\n",
            "Epoch 41/50\n",
            "10/10 [==============================] - 0s 2ms/step - loss: 0.0525\n",
            "Epoch 42/50\n",
            "10/10 [==============================] - 0s 4ms/step - loss: 0.0497\n",
            "Epoch 43/50\n",
            "10/10 [==============================] - 0s 3ms/step - loss: 0.0496\n",
            "Epoch 44/50\n",
            "10/10 [==============================] - 0s 4ms/step - loss: 0.0487\n",
            "Epoch 45/50\n",
            "10/10 [==============================] - 0s 3ms/step - loss: 0.0482\n",
            "Epoch 46/50\n",
            "10/10 [==============================] - 0s 2ms/step - loss: 0.0476\n",
            "Epoch 47/50\n",
            "10/10 [==============================] - 0s 2ms/step - loss: 0.0477\n",
            "Epoch 48/50\n",
            "10/10 [==============================] - 0s 2ms/step - loss: 0.0478\n",
            "Epoch 49/50\n",
            "10/10 [==============================] - 0s 2ms/step - loss: 0.0465\n",
            "Epoch 50/50\n",
            "10/10 [==============================] - 0s 2ms/step - loss: 0.0462\n",
            "1/1 [==============================] - 0s 71ms/step\n",
            "Mean Squared Error on Test Set: 0.08537983996967353\n",
            "Unique values in y_test_binary: [0 1]\n"
          ]
        },
        {
          "output_type": "display_data",
          "data": {
            "text/plain": [
              "<Figure size 640x480 with 1 Axes>"
            ],
            "image/png": "[encoded data removed]"
          },
          "metadata": {}
        }
      ]
    },
    {
      "cell_type": "markdown",
      "source": [
        "# Create an interactive dashboard"
      ],
      "metadata": {
        "id": "4YOWAGvMuCFS"
      }
    },
    {
      "cell_type": "markdown",
      "source": [
        "Creating an interactive dashboard using Dash. The dashboard includes a dropdown menu for selecting a city and a graph for displaying the weather data. The graph is updated whenever a different city is selected from the dropdown menu.\n",
        "\n",
        "\n",
        "\n",
        "---\n",
        "**Google Colab Restrictions:**\n",
        "\n",
        "If you're running this in Google Colab, be aware that it has restrictions on external connections.\n",
        "\n",
        "You might need to explore other options, such as running the Dash app locally on your machine.\n",
        "\n",
        "\"app.run_server(debug=True, dev_tools_ui=False, dev_tools_props_check=False, use_reloader=False, port=8050)\"\n"
      ],
      "metadata": {
        "id": "-Kf_EXFxuFJs"
      }
    },
    {
      "cell_type": "code",
      "source": [
        "app = dash.Dash(__name__)\n",
        "\n",
        "app.layout = html.Div([\n",
        "    dcc.Dropdown(\n",
        "        id='city-dropdown',\n",
        "        options=[{'label': city, 'value': city} for city in ['New York']],  # replace with your list of cities\n",
        "        value='New York'  # replace with your default city\n",
        "    ),\n",
        "    dcc.Graph(id='weather-graph')\n",
        "])\n",
        "\n",
        "@app.callback(\n",
        "    dash.dependencies.Output('weather-graph', 'figure'),\n",
        "    [dash.dependencies.Input('city-dropdown', 'value')]\n",
        ")\n",
        "def update_graph(selected_city):\n",
        "    # Fetch and process data for selected_city\n",
        "    # This is just a placeholder. You'll need to replace this with your actual data fetching and processing code.\n",
        "    data = fetch_and_process_data(selected_city)  # replace with your function to fetch and process data\n",
        "\n",
        "    figure = {\n",
        "        'data': [\n",
        "            {'x': data['dates'], 'y': data['temperatures'], 'type': 'line', 'name': 'Temperature'},\n",
        "            # Add more traces for other data like humidity, wind speed, etc.\n",
        "        ],\n",
        "        'layout': {\n",
        "            'title': f\"Weather Data for {selected_city}\"\n",
        "        }\n",
        "    }\n",
        "\n",
        "    return figure\n",
        "\n",
        "if __name__ == '__main__':\n",
        "    app.run_server(debug=True)\n",
        "\n",
        "\n",
        "#Google Colab Restrictions:\n",
        "#If you're running this in Google Colab, be aware that it has restrictions on external connections.\n",
        "#You might need to explore other options, such as running the Dash app locally on your machine.\n",
        "\n",
        "#\"app.run_server(debug=True, dev_tools_ui=False, dev_tools_props_check=False, use_reloader=False, port=8050)\"\n"
      ],
      "metadata": {
        "colab": {
          "base_uri": "https://localhost:8080/",
          "height": 672
        },
        "id": "qUV5UYvMndqG",
        "outputId": "659b826a-445c-4547-f18d-7b4798f3f9c6"
      },
      "execution_count": 63,
      "outputs": [
        {
          "output_type": "display_data",
          "data": {
            "text/plain": [
              "<IPython.core.display.Javascript object>"
            ],
            "application/javascript": [
              "(async (port, path, width, height, cache, element) => {\n",
              "    if (!google.colab.kernel.accessAllowed && !cache) {\n",
              "      return;\n",
              "    }\n",
              "    element.appendChild(document.createTextNode(''));\n",
              "    const url = await google.colab.kernel.proxyPort(port, {cache});\n",
              "    const iframe = document.createElement('iframe');\n",
              "    iframe.src = new URL(path, url).toString();\n",
              "    iframe.height = height;\n",
              "    iframe.width = width;\n",
              "    iframe.style.border = 0;\n",
              "    iframe.allow = [\n",
              "        'accelerometer',\n",
              "        'autoplay',\n",
              "        'camera',\n",
              "        'clipboard-read',\n",
              "        'clipboard-write',\n",
              "        'gyroscope',\n",
              "        'magnetometer',\n",
              "        'microphone',\n",
              "        'serial',\n",
              "        'usb',\n",
              "        'xr-spatial-tracking',\n",
              "    ].join('; ');\n",
              "    element.appendChild(iframe);\n",
              "  })(8050, \"/\", \"100%\", 650, false, window.element)"
            ]
          },
          "metadata": {}
        }
      ]
    }
  ]
}